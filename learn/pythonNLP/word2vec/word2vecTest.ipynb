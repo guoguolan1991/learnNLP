{
 "cells": [
  {
   "cell_type": "code",
   "execution_count": 5,
   "metadata": {
    "collapsed": true
   },
   "outputs": [
    {
     "name": "stdout",
     "output_type": "stream",
     "text": [
      "女人 0.750494122505\n家伙 0.626305401325\n傻瓜 0.518479645252\n小孩 0.494665443897\n小伙子 0.492029756308\n女孩 0.491098880768\n那家伙 0.488637894392\n有钱人 0.488511562347\n男子汉 0.486038029194\n女孩子 0.482079923153\n"
     ]
    }
   ],
   "source": [
    "import gensim\n",
    "model = gensim.models.Word2Vec.load('data/wiki/wiki.cn.text.jian.model')\n",
    "result = model.most_similar(u'男人')\n",
    "for item in result:\n",
    "    print item[0], item[1]"
   ]
  },
  {
   "cell_type": "code",
   "execution_count": 6,
   "metadata": {
    "collapsed": false
   },
   "outputs": [
    {
     "name": "stdout",
     "output_type": "stream",
     "text": [
      "男人 0.750494122505\n家伙 0.490616440773\n女孩 0.477602988482\n陌生人 0.470114946365\n撒娇 0.46702837944\n傻瓜 0.461216270924\n老婆 0.457139849663\n女明星 0.456298500299\n老公 0.453409552574\n说谎 0.450499594212\n"
     ]
    }
   ],
   "source": [
    "result = model.most_similar(u'女人')\n",
    "for item in result:\n",
    "    print item[0], item[1]"
   ]
  },
  {
   "cell_type": "code",
   "execution_count": 7,
   "metadata": {
    "collapsed": false
   },
   "outputs": [
    {
     "name": "stdout",
     "output_type": "stream",
     "text": [
      "我国 0.604613006115\n中国政府 0.529143512249\n北京 0.480717331171\n台商 0.474934339523\n中华人民共和国政府 0.457454025745\n中华人民共和国 0.456415176392\n台湾 0.451346039772\n中华民族 0.447891563177\n国内 0.447841703892\n中华民国 0.447337538004\n"
     ]
    }
   ],
   "source": [
    "result = model.most_similar(u'中国')\n",
    "for item in result:\n",
    "    print item[0], item[1]"
   ]
  }
 ],
 "metadata": {
  "kernelspec": {
   "display_name": "Python 2",
   "language": "python",
   "name": "python2"
  },
  "language_info": {
   "codemirror_mode": {
    "name": "ipython",
    "version": 2.0
   },
   "file_extension": ".py",
   "mimetype": "text/x-python",
   "name": "python",
   "nbconvert_exporter": "python",
   "pygments_lexer": "ipython2",
   "version": "2.7.6"
  }
 },
 "nbformat": 4,
 "nbformat_minor": 0
}